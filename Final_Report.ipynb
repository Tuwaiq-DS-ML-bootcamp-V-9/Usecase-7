{
 "cells": [
  {
   "cell_type": "markdown",
   "metadata": {},
   "source": [
    "# Final Report - Machine Learning Project\n",
    "\n",
    "\n",
    "## Step 1: Loading the Data\n",
    "We start by importing the necessary libraries and loading the dataset.\n"
   ]
  },
  {
   "cell_type": "code",
   "execution_count": null,
   "metadata": {},
   "outputs": [],
   "source": [
    "# Ignore warnings for cleaner output\n",
    "import warnings\n",
    "warnings.filterwarnings(\"ignore\")\n",
    "\n",
    "# Importing necessary libraries\n",
    "import pandas as pd\n",
    "import numpy as np\n",
    "import matplotlib.pyplot as plt\n",
    "import seaborn as sns\n",
    "import joblib\n",
    "\n",
    "# Load the dataset\n",
    "print(\"Loading dataset from file...\")\n",
    "data_path = \"final_data.csv\"  # Ensure this path is correct\n",
    "data = pd.read_csv(data_path)\n",
    "print(\"Data Loaded Successfully!\")\n",
    "\n",
    "# Display dataset info\n",
    "print(\"\\nDataset Info:\")\n",
    "data.info()\n",
    "print(\"\\nFirst 5 Rows:\")\n",
    "print(data.head())"
   ]
  },
  {
   "cell_type": "markdown",
   "metadata": {},
   "source": [
    "##  Step 2: Exploratory Data Analysis (EDA)\n",
    "Before we train our models, we analyze the dataset to check for:\n",
    "- **Missing values**\n",
    "- **Duplicates**\n",
    "- **Outliers**\n",
    "- **Feature correlations**"
   ]
  },
  {
   "cell_type": "code",
   "execution_count": null,
   "metadata": {},
   "outputs": [],
   "source": [
    "# Checking for missing values\n",
    "print(\"\\nMissing Values:\")\n",
    "print(data.isnull().sum())\n",
    "\n",
    "# Checking for duplicates\n",
    "print(\"\\nDuplicate Rows:\", data.duplicated().sum())\n",
    "\n",
    "# Checking summary statistics\n",
    "print(\"\\nSummary Statistics:\")\n",
    "print(data.describe())\n",
    "\n",
    "# Checking correlation between features\n",
    "plt.figure(figsize=(12, 6))\n",
    "sns.heatmap(data.corr(), annot=True, cmap=\"coolwarm\", fmt=\".2f\")\n",
    "plt.title(\"Feature Correlation Matrix\")\n",
    "plt.show()\n"
   ]
  },
  {
   "cell_type": "markdown",
   "metadata": {},
   "source": [
    "##  Step 3: Data Preprocessing\n",
    "### Handling missing values, duplicates, and encoding categorical variables.\n"
   ]
  },
  {
   "cell_type": "code",
   "execution_count": null,
   "metadata": {},
   "outputs": [],
   "source": [
    "# Drop duplicates if any\n",
    "if data.duplicated().sum() > 0:\n",
    "    data.drop_duplicates(inplace=True)\n",
    "    print(\"\\nNo duplicates to remove!\")\n",
    "\n",
    "# Encoding categorical features\n",
    "print(\"\\nEncoding categorical variables...\")\n",
    "data = pd.get_dummies(data, drop_first=True)\n",
    "\n",
    "# Save cleaned dataset\n",
    "cleaned_data_path = \"cleaned_final_data.csv\"\n",
    "data.to_csv(cleaned_data_path, index=False)\n",
    "print(f\"Cleaned data saved at: {cleaned_data_path}\")\n"
   ]
  },
  {
   "cell_type": "markdown",
   "metadata": {},
   "source": [
    "##  Step 4: Model Training\n",
    "We train:\n",
    "- **Regression Models** (Linear, Ridge, Lasso)\n",
    "- **Classification Models** (Logistic Regression, Decision Trees, Random Forest)\n"
   ]
  },
  {
   "cell_type": "code",
   "execution_count": null,
   "metadata": {},
   "outputs": [],
   "source": [
    "# Import ML libraries\n",
    "from sklearn.model_selection import train_test_split, GridSearchCV\n",
    "from sklearn.preprocessing import StandardScaler\n",
    "from sklearn.linear_model import LinearRegression, Ridge, Lasso\n",
    "from sklearn.tree import DecisionTreeClassifier\n",
    "from sklearn.ensemble import RandomForestClassifier\n",
    "from sklearn.metrics import accuracy_score, mean_absolute_error, mean_squared_error, r2_score, classification_report\n",
    "\n",
    "# Define features and target variable\n",
    "target = \"price\"  # Modify based on dataset\n",
    "X = data.drop(columns=[target])\n",
    "y = data[target]\n",
    "\n",
    "# Train-test split\n",
    "X_train, X_test, y_train, y_test = train_test_split(X, y, test_size=0.2, random_state=42)\n",
    "\n",
    "# Standardize features\n",
    "scaler = StandardScaler()\n",
    "X_train_scaled = scaler.fit_transform(X_train)\n",
    "X_test_scaled = scaler.transform(X_test)\n",
    "\n",
    "# Train a Linear Regression model\n",
    "model = LinearRegression()\n",
    "model.fit(X_train_scaled, y_train)\n",
    "\n",
    "# Predictions\n",
    "y_pred = model.predict(X_test_scaled)\n",
    "\n",
    "# Model Evaluation\n",
    "print(\"\\nModel Evaluation:\")\n",
    "print(\"MAE:\", mean_absolute_error(y_test, y_pred))\n",
    "print(\"RMSE:\", np.sqrt(mean_squared_error(y_test, y_pred)))\n",
    "print(\"R² Score:\", r2_score(y_test, y_pred))\n"
   ]
  },
  {
   "cell_type": "markdown",
   "metadata": {},
   "source": [
    "##  Step 5: Model Deployment\n",
    "We save the best-trained models for future use.\n"
   ]
  },
  {
   "cell_type": "code",
   "execution_count": null,
   "metadata": {},
   "outputs": [],
   "source": [
    "# Save cleaned dataset\n",
    "joblib.dump(data, \"final_cleaned_data.pkl\")\n",
    "print(\"Cleaned dataset saved as .pkl file\")"
   ]
  },
  {
   "cell_type": "code",
   "execution_count": null,
   "metadata": {},
   "outputs": [],
   "source": [
    "# Save trained model\n",
    "best_model_path = \"best_model.pkl\"\n",
    "joblib.dump(model, best_model_path)\n",
    "print(f\"Best model saved successfully at: {best_model_path}\")"
   ]
  }
 ],
 "metadata": {
  "language_info": {
   "name": "python"
  }
 },
 "nbformat": 4,
 "nbformat_minor": 2
}
