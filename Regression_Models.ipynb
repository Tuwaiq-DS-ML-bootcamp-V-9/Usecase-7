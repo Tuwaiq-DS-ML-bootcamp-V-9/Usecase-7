{
 "cells": [
  {
   "cell_type": "markdown",
   "metadata": {},
   "source": [
    "# Regression Models - Machine Learning\n"
   ]
  },
  {
   "cell_type": "code",
   "execution_count": null,
   "metadata": {},
   "outputs": [],
   "source": [
    "# Importing necessary libraries\n",
    "import warnings\n",
    "warnings.filterwarnings(\"ignore\")\n",
    "\n",
    "import pandas as pd\n",
    "import numpy as np\n",
    "import matplotlib.pyplot as plt\n",
    "import seaborn as sns\n",
    "from sklearn.model_selection import train_test_split, GridSearchCV\n",
    "from sklearn.preprocessing import StandardScaler\n",
    "from sklearn.linear_model import LinearRegression, Ridge, Lasso\n",
    "from sklearn.metrics import mean_absolute_error, mean_squared_error, r2_score\n",
    "import joblib"
   ]
  },
  {
   "cell_type": "code",
   "execution_count": null,
   "metadata": {},
   "outputs": [],
   "source": [
    "# Load the cleaned dataset\n",
    "data_path = \"cleaned_final_data.csv\"  # Ensure this file exists\n",
    "data = pd.read_csv(data_path)"
   ]
  },
  {
   "cell_type": "code",
   "execution_count": null,
   "metadata": {},
   "outputs": [],
   "source": [
    "# Define target and features\n",
    "target = \"price\"  # Modify based on dataset\n",
    "X = data.drop(columns=[target])\n",
    "y = data[target]"
   ]
  },
  {
   "cell_type": "code",
   "execution_count": null,
   "metadata": {},
   "outputs": [],
   "source": [
    "# Train-test split\n",
    "X_train, X_test, y_train, y_test = train_test_split(X, y, test_size=0.2, random_state=42)"
   ]
  },
  {
   "cell_type": "code",
   "execution_count": null,
   "metadata": {},
   "outputs": [],
   "source": [
    "# Standardizing numerical features\n",
    "scaler = StandardScaler()\n",
    "X_train_scaled = scaler.fit_transform(X_train)\n",
    "X_test_scaled = scaler.transform(X_test)"
   ]
  },
  {
   "cell_type": "markdown",
   "metadata": {},
   "source": [
    "## Step 1: Training Linear Regression Model\n"
   ]
  },
  {
   "cell_type": "code",
   "execution_count": null,
   "metadata": {},
   "outputs": [],
   "source": [
    "# Train Linear Regression Model\n",
    "lin_reg = LinearRegression()\n",
    "lin_reg.fit(X_train_scaled, y_train)\n",
    "\n",
    "# Predictions\n",
    "y_pred_train = lin_reg.predict(X_train_scaled)\n",
    "y_pred_test = lin_reg.predict(X_test_scaled)\n",
    "\n",
    "# Model Evaluation\n",
    "print(\"\\nLinear Regression Evaluation:\")\n",
    "print(\"Train R²:\", r2_score(y_train, y_pred_train))\n",
    "print(\"Test R²:\", r2_score(y_test, y_pred_test))\n",
    "print(\"Train MAE:\", mean_absolute_error(y_train, y_pred_train))\n",
    "print(\"Test MAE:\", mean_absolute_error(y_test, y_pred_test))"
   ]
  },
  {
   "cell_type": "code",
   "execution_count": null,
   "metadata": {},
   "outputs": [],
   "source": [
    "# Linear Regression establishes a linear relationship between input features and the target variable.\n",
    "# We evaluate it using R² (coefficient of determination) and Mean Absolute Error (MAE) to measure performance."
   ]
  },
  {
   "cell_type": "markdown",
   "metadata": {},
   "source": [
    "## Step 2: Ridge & Lasso Regression - Hyperparameter Tuning"
   ]
  },
  {
   "cell_type": "code",
   "execution_count": null,
   "metadata": {},
   "outputs": [],
   "source": [
    "# Ridge Regression Hyperparameter Tuning\n",
    "ridge_grid = GridSearchCV(Ridge(), {'alpha': [0.1, 1, 10, 100]}, cv=5, scoring='neg_mean_absolute_error')\n",
    "ridge_grid.fit(X_train_scaled, y_train)\n",
    "best_ridge = ridge_grid.best_estimator_"
   ]
  },
  {
   "cell_type": "code",
   "execution_count": null,
   "metadata": {},
   "outputs": [],
   "source": [
    "# Ridge Regression is a regularized version of Linear Regression.\n",
    "# It penalizes large coefficients to reduce overfitting.\n",
    "# We tune the alpha parameter using GridSearchCV to find the optimal regularization strength."
   ]
  },
  {
   "cell_type": "code",
   "execution_count": null,
   "metadata": {},
   "outputs": [],
   "source": [
    "# Lasso Regression Hyperparameter Tuning\n",
    "lasso_grid = GridSearchCV(Lasso(), {'alpha': [0.1, 1, 10, 100]}, cv=5, scoring='neg_mean_absolute_error')\n",
    "lasso_grid.fit(X_train_scaled, y_train)\n",
    "best_lasso = lasso_grid.best_estimator_"
   ]
  },
  {
   "cell_type": "code",
   "execution_count": null,
   "metadata": {},
   "outputs": [],
   "source": [
    "# Lasso Regression is similar to Ridge but with L1 regularization.\n",
    "# It can shrink some coefficients to zero, effectively performing feature selection.\n",
    "# We use GridSearchCV to determine the best alpha value that balances bias and variance."
   ]
  },
  {
   "cell_type": "code",
   "execution_count": null,
   "metadata": {},
   "outputs": [],
   "source": [
    "# Save Models\n",
    "joblib.dump(best_ridge, \"ridge_model.pkl\")\n",
    "joblib.dump(best_lasso, \"lasso_model.pkl\")\n",
    "joblib.dump(lin_reg, \"linear_regression.pkl\")"
   ]
  },
  {
   "cell_type": "code",
   "execution_count": null,
   "metadata": {},
   "outputs": [],
   "source": [
    "# Trained Linear Regression, Ridge, and Lasso models.\n",
    "# Applied Hyperparameter Tuning for Ridge & Lasso.\n",
    "# Saved the best models for later use."
   ]
  }
 ],
 "metadata": {
  "language_info": {
   "name": "python"
  }
 },
 "nbformat": 4,
 "nbformat_minor": 2
}
